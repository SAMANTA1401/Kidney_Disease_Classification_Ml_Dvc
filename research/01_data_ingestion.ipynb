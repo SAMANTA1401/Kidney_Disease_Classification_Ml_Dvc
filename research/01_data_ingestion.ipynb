{
 "cells": [
  {
   "cell_type": "code",
   "execution_count": 1,
   "metadata": {},
   "outputs": [],
   "source": [
    "import os"
   ]
  },
  {
   "cell_type": "code",
   "execution_count": 2,
   "metadata": {},
   "outputs": [
    {
     "data": {
      "text/plain": [
       "'d:\\\\MLOPs Project\\\\Kidney_Disease_Classification_Ml_Dvc\\\\research'"
      ]
     },
     "execution_count": 2,
     "metadata": {},
     "output_type": "execute_result"
    }
   ],
   "source": [
    "%pwd ## project working directory"
   ]
  },
  {
   "cell_type": "code",
   "execution_count": 3,
   "metadata": {},
   "outputs": [],
   "source": [
    "os.chdir(\"../\")"
   ]
  },
  {
   "cell_type": "code",
   "execution_count": null,
   "metadata": {},
   "outputs": [],
   "source": []
  },
  {
   "cell_type": "code",
   "execution_count": 4,
   "metadata": {},
   "outputs": [
    {
     "data": {
      "text/plain": [
       "'d:\\\\MLOPs Project\\\\Kidney_Disease_Classification_Ml_Dvc'"
      ]
     },
     "execution_count": 4,
     "metadata": {},
     "output_type": "execute_result"
    }
   ],
   "source": [
    "%pwd"
   ]
  },
  {
   "cell_type": "code",
   "execution_count": 5,
   "metadata": {},
   "outputs": [],
   "source": [
    "from dataclasses import dataclass\n",
    "from pathlib import Path ##This module offers classes representing filesystem paths with semantics appropriate for different operating systems. Path classes are divided between pure paths, which provide purely computational operations without I/O, and concrete paths, which inherit from pure paths but also provide I/O operations.\n",
    "\n",
    "@dataclass (frozen=True)  ##In Python, \"frozen\" means an object cannot be modified. For example, consider set and frozenset:\n",
    "class DataIngestionConfig:  ##config.yaml file class to read the config file and store its content in a variable of this class\n",
    "##This code defines a class named `DataIngestionConfig` with four attributes:\n",
    "\n",
    "    root_dir: Path\n",
    "    source_URL: str\n",
    "    local_data_file: Path\n",
    "    unzip_dir: Path\n",
    "    "
   ]
  },
  {
   "cell_type": "code",
   "execution_count": 6,
   "metadata": {},
   "outputs": [],
   "source": [
    "from cnnClassifier.constants import * \n",
    "from cnnClassifier.utils.common import read_yaml, create_directories"
   ]
  },
  {
   "cell_type": "markdown",
   "metadata": {},
   "source": []
  },
  {
   "cell_type": "code",
   "execution_count": 7,
   "metadata": {},
   "outputs": [],
   "source": [
    "class ConfigurationManager:\n",
    "    def __init__(\n",
    "        self,\n",
    "        config_filepath = CONFIG_FILE_PATH, ##config.yaml file path\n",
    "        params_filepath = PARAMS_FILE_PATH):\n",
    "\n",
    "        self.config = read_yaml(config_filepath)  ##read config.yaml file create config object\n",
    "        self.params = read_yaml(params_filepath)\n",
    "\n",
    "        create_directories([self.config.artifacts_root]) ## create artifacts  directory if not exist\n",
    "\n",
    "\n",
    "    def get_data_ingestion_config(self) -> DataIngestionConfig: ##This method is expected to return an object of type `DataIngestionConfig`, which probably contains parameters such as data source, format, transformation rules, and destination.\n",
    "        config = self.config.data_ingestion ##config.yaml data ingestion: self.config =  self.config = read_yaml(config_filepath)\n",
    "\n",
    "        create_directories([config.root_dir]) ## create data ingestion directory  if not exist inside artifacts\n",
    "\n",
    "        data_ingestion_config = DataIngestionConfig( ##This code snippet appears to be creating a new instance of a `DataIngestionConfig` object, presumably based on an existing configuration object named `config\n",
    "            root_dir=config.root_dir,\n",
    "            source_URL = config.source_URL,\n",
    "            local_data_file = config.local_data_file,\n",
    "            unzip_dir = config.unzip_dir\n",
    "            )\n",
    "            \n",
    "        return data_ingestion_config ##return object of DataIngestionConfig:class"
   ]
  },
  {
   "cell_type": "code",
   "execution_count": 8,
   "metadata": {},
   "outputs": [],
   "source": [
    "import os\n",
    "import zipfile\n",
    "import gdown\n",
    "from cnnClassifier import  logger\n",
    "from cnnClassifier.utils.common import get_size"
   ]
  },
  {
   "cell_type": "code",
   "execution_count": 14,
   "metadata": {},
   "outputs": [],
   "source": [
    "class DataIngestion:\n",
    "    def __init__ (self, config: DataIngestionConfig): ##The `__init__` method in Python is a special method used to initialize objects of a class. In this case, the `__init__` method is defined to accept a parameter `config` of type `DataIngestionConfig`. When an object of this class is created, the `__init__` method is automatically called, and it expects a `DataIngestionConfig` object to be passed as an argument.\n",
    "        # This means that when you create an instance of the class, you need to provide a `DataIngestionConfig` object, which likely contains configuration settings for data ingestion. These settings will then be used by the class methods to perform various operations related to data ingestion.\n",
    "        self.config = config\n",
    "\n",
    "    def download_file(self) -> str: ##return string url\n",
    "        '''fetch data from the url'''\n",
    "\n",
    "        try:\n",
    "            dataset_url = self.config.source_URL # DataIngestionConfig class\n",
    "            zip_download_dir = self.config.local_data_file\n",
    "            os.makedirs(\"artifacts/data_ingestion\", exist_ok=True)\n",
    "            logger.info(f\"Downloading data from {dataset_url} into file {zip_download_dir}\")\n",
    "\n",
    "            file_id = dataset_url.split(\"/\")[-2] ##1tsyRtl3joEDI0wxU45PfeHb4_t-XRRK1\n",
    "            prefix = 'https://drive.google.com/uc?export=download&id='\n",
    "            gdown.download(prefix+file_id, zip_download_dir) ##The `gdown.download` function is likely being used to download a file from Google Drive using its file ID.\n",
    "\n",
    "            logger.info(f\"Downloaded data from {dataset_url} into file {zip_download_dir}\")\n",
    "\n",
    "        except Exception as e:\n",
    "            raise e\n",
    "\n",
    "\n",
    "    def extract_zip_file(self):\n",
    "        \"\"\"\n",
    "        zip_file_path: str\n",
    "        extracts the zip file into the data directory\n",
    "        function returns None\n",
    "        \"\"\"\n",
    "        unzip_path = self.config.unzip_dir\n",
    "        os.makedirs(unzip_path, exist_ok=True)\n",
    "        with zipfile.ZipFile(self.config.local_data_file, 'r') as zip_ref:\n",
    "            zip_ref.extractall(unzip_path)\n"
   ]
  },
  {
   "cell_type": "code",
   "execution_count": 15,
   "metadata": {},
   "outputs": [
    {
     "name": "stdout",
     "output_type": "stream",
     "text": [
      "[2023-10-20 19:53:59,133: INFO: common:yaml file: config\\config.yaml loaded successfully]\n",
      "[2023-10-20 19:53:59,136: INFO: common:yaml file: params.yaml loaded successfully]\n",
      "[2023-10-20 19:53:59,138: INFO: common:created directory at: artifacts]\n",
      "[2023-10-20 19:53:59,140: INFO: common:created directory at: artifacts/data_ingestion]\n",
      "[2023-10-20 19:53:59,142: INFO: 4182046305:Downloading data from https://drive.google.com/file/d/1tsyRtl3joEDI0wxU45PfeHb4_t-XRRK1/view?usp=share_link into file artifacts/data_ingestion/data.zip]\n"
     ]
    },
    {
     "name": "stderr",
     "output_type": "stream",
     "text": [
      "Downloading...\n",
      "From (uriginal): https://drive.google.com/uc?export=download&id=1tsyRtl3joEDI0wxU45PfeHb4_t-XRRK1\n",
      "From (redirected): https://drive.google.com/uc?export=download&id=1tsyRtl3joEDI0wxU45PfeHb4_t-XRRK1&confirm=t&uuid=7e10191b-7889-4f0f-afc7-26bb28416876\n",
      "To: d:\\MLOPs Project\\Kidney_Disease_Classification_Ml_Dvc\\artifacts\\data_ingestion\\data.zip\n",
      "100%|██████████| 79.0M/79.0M [00:07<00:00, 10.5MB/s]\n"
     ]
    },
    {
     "name": "stdout",
     "output_type": "stream",
     "text": [
      "[2023-10-20 19:54:09,201: INFO: 4182046305:Downloaded data from https://drive.google.com/file/d/1tsyRtl3joEDI0wxU45PfeHb4_t-XRRK1/view?usp=share_link into file artifacts/data_ingestion/data.zip]\n"
     ]
    }
   ],
   "source": [
    "#CREATE PIPELINE\n",
    "try:\n",
    "    config = ConfigurationManager()   #make sure that directory is change to \"os.chdir(\"../\") \" other than  you ge t no such file found\n",
    "    data_ingestion_config = config.get_data_ingestion_config()\n",
    "    data_ingestion = DataIngestion(config=data_ingestion_config)\n",
    "    data_ingestion.download_file()\n",
    "    data_ingestion.extract_zip_file()\n",
    "except Exception as e:\n",
    "    raise e"
   ]
  },
  {
   "cell_type": "code",
   "execution_count": null,
   "metadata": {},
   "outputs": [],
   "source": []
  },
  {
   "cell_type": "code",
   "execution_count": null,
   "metadata": {},
   "outputs": [],
   "source": []
  }
 ],
 "metadata": {
  "kernelspec": {
   "display_name": "kidney",
   "language": "python",
   "name": "python3"
  },
  "language_info": {
   "codemirror_mode": {
    "name": "ipython",
    "version": 3
   },
   "file_extension": ".py",
   "mimetype": "text/x-python",
   "name": "python",
   "nbconvert_exporter": "python",
   "pygments_lexer": "ipython3",
   "version": "3.11.5"
  }
 },
 "nbformat": 4,
 "nbformat_minor": 2
}
